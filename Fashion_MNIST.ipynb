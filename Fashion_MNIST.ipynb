{
  "nbformat": 4,
  "nbformat_minor": 0,
  "metadata": {
    "colab": {
      "provenance": [],
      "authorship_tag": "ABX9TyPigYXSmxmNPILG7jaxUXEk",
      "include_colab_link": true
    },
    "kernelspec": {
      "name": "python3",
      "display_name": "Python 3"
    },
    "language_info": {
      "name": "python"
    }
  },
  "cells": [
    {
      "cell_type": "markdown",
      "metadata": {
        "id": "view-in-github",
        "colab_type": "text"
      },
      "source": [
        "<a href=\"https://colab.research.google.com/github/Saurabh019/Incubyte_Campus_placement-2023-/blob/main/Fashion_MNIST.ipynb\" target=\"_parent\"><img src=\"https://colab.research.google.com/assets/colab-badge.svg\" alt=\"Open In Colab\"/></a>"
      ]
    },
    {
      "cell_type": "code",
      "execution_count": 1,
      "metadata": {
        "id": "JtUJh9TiOP5-"
      },
      "outputs": [],
      "source": [
        "import numpy as np\n",
        "import pandas as pd\n",
        "import matplotlib.pyplot as plt\n",
        "import matplotlib as mpl"
      ]
    },
    {
      "cell_type": "code",
      "source": [
        "#Building an image classifier\n",
        "import tensorflow as tf\n",
        "from tensorflow import keras"
      ],
      "metadata": {
        "id": "qP7Or7TXOsUk"
      },
      "execution_count": 2,
      "outputs": []
    },
    {
      "cell_type": "code",
      "source": [
        "tf.__version__"
      ],
      "metadata": {
        "colab": {
          "base_uri": "https://localhost:8080/",
          "height": 35
        },
        "id": "BAO1dBGcO4Fk",
        "outputId": "233aed01-f099-4213-f1f6-66a8d80ccf54"
      },
      "execution_count": 8,
      "outputs": [
        {
          "output_type": "execute_result",
          "data": {
            "text/plain": [
              "'2.13.0'"
            ],
            "application/vnd.google.colaboratory.intrinsic+json": {
              "type": "string"
            }
          },
          "metadata": {},
          "execution_count": 8
        }
      ]
    },
    {
      "cell_type": "code",
      "source": [
        "fashion_mnist = keras.datasets.fashion_mnist"
      ],
      "metadata": {
        "id": "2bFRGcmbO7c1"
      },
      "execution_count": 14,
      "outputs": []
    },
    {
      "cell_type": "code",
      "source": [
        "(X_train_full, y_train_full), (X_test, y_test) = fashion_mnist.load_data()"
      ],
      "metadata": {
        "colab": {
          "base_uri": "https://localhost:8080/"
        },
        "id": "5EJ7OhoAPPDN",
        "outputId": "cd3f0442-704b-474f-af84-cd991e3e6dc0"
      },
      "execution_count": 16,
      "outputs": [
        {
          "output_type": "stream",
          "name": "stdout",
          "text": [
            "Downloading data from https://storage.googleapis.com/tensorflow/tf-keras-datasets/train-labels-idx1-ubyte.gz\n",
            "29515/29515 [==============================] - 0s 0us/step\n",
            "Downloading data from https://storage.googleapis.com/tensorflow/tf-keras-datasets/train-images-idx3-ubyte.gz\n",
            "26421880/26421880 [==============================] - 0s 0us/step\n",
            "Downloading data from https://storage.googleapis.com/tensorflow/tf-keras-datasets/t10k-labels-idx1-ubyte.gz\n",
            "5148/5148 [==============================] - 0s 0us/step\n",
            "Downloading data from https://storage.googleapis.com/tensorflow/tf-keras-datasets/t10k-images-idx3-ubyte.gz\n",
            "4422102/4422102 [==============================] - 0s 0us/step\n"
          ]
        }
      ]
    },
    {
      "cell_type": "code",
      "source": [
        "plt.imshow(X_train_full[7])"
      ],
      "metadata": {
        "colab": {
          "base_uri": "https://localhost:8080/",
          "height": 447
        },
        "id": "sW-GtaanPxgN",
        "outputId": "5cf0cb24-0c10-4cec-fa88-d92fad59d1df"
      },
      "execution_count": 19,
      "outputs": [
        {
          "output_type": "execute_result",
          "data": {
            "text/plain": [
              "<matplotlib.image.AxesImage at 0x7ce40eef93f0>"
            ]
          },
          "metadata": {},
          "execution_count": 19
        },
        {
          "output_type": "display_data",
          "data": {
            "text/plain": [
              "<Figure size 640x480 with 1 Axes>"
            ],
            "image/png": "[encoded data removed]"
          },
          "metadata": {}
        }
      ]
    },
    {
      "cell_type": "code",
      "source": [
        "y_train_full[7]"
      ],
      "metadata": {
        "colab": {
          "base_uri": "https://localhost:8080/"
        },
        "id": "4JpDCceZQCYn",
        "outputId": "ff6d194a-3e9f-4c5d-818e-58c3f9007052"
      },
      "execution_count": 20,
      "outputs": [
        {
          "output_type": "execute_result",
          "data": {
            "text/plain": [
              "2"
            ]
          },
          "metadata": {},
          "execution_count": 20
        }
      ]
    },
    {
      "cell_type": "code",
      "source": [
        "class_names = [\"T-shirt/top\",\"Trouser\",\"Pullover\",\"Dress\",\"Coat\",\"Sandal\",\"Shirt\",\"Bag\",\"Ankle Boot\",\"Sneaker\"]"
      ],
      "metadata": {
        "id": "U5ajicpbQLeT"
      },
      "execution_count": 21,
      "outputs": []
    },
    {
      "cell_type": "code",
      "source": [
        "class_names[y_train_full[1]]"
      ],
      "metadata": {
        "colab": {
          "base_uri": "https://localhost:8080/",
          "height": 35
        },
        "id": "puJYYusmRRew",
        "outputId": "d8e2e725-f1dd-4fd2-ba4f-680569c47495"
      },
      "execution_count": 23,
      "outputs": [
        {
          "output_type": "execute_result",
          "data": {
            "text/plain": [
              "'T-shirt/top'"
            ],
            "application/vnd.google.colaboratory.intrinsic+json": {
              "type": "string"
            }
          },
          "metadata": {},
          "execution_count": 23
        }
      ]
    },
    {
      "cell_type": "code",
      "source": [
        "class_names[y_train_full[0]]"
      ],
      "metadata": {
        "colab": {
          "base_uri": "https://localhost:8080/",
          "height": 35
        },
        "id": "dRSTg1u4RXhl",
        "outputId": "395ec1f1-f826-4c4b-cba9-f31e2b720e9a"
      },
      "execution_count": 24,
      "outputs": [
        {
          "output_type": "execute_result",
          "data": {
            "text/plain": [
              "'Sneaker'"
            ],
            "application/vnd.google.colaboratory.intrinsic+json": {
              "type": "string"
            }
          },
          "metadata": {},
          "execution_count": 24
        }
      ]
    },
    {
      "cell_type": "code",
      "source": [
        "X_train_full[7]"
      ],
      "metadata": {
        "colab": {
          "base_uri": "https://localhost:8080/"
        },
        "id": "TucN77K_Re5D",
        "outputId": "82d40a9d-c302-4adf-a053-ff2f2ec23e69"
      },
      "execution_count": 25,
      "outputs": [
        {
          "output_type": "execute_result",
          "data": {
            "text/plain": [
              "array([[  0,   0,   0,   0,   0,   1,   1,   0,   0,   0,   0,  63,  28,\n",
              "          0,   0,   0,  33,  85,   0,   0,   0,   0,   0,   0,   0,   0,\n",
              "          0,   0],\n",
              "       [  0,   0,   0,   0,   0,   2,   0,   0,  28, 126, 241, 255, 255,\n",
              "        255, 255, 255, 255, 252, 248, 111,   0,   0,   0,   2,   0,   0,\n",
              "          0,   0],\n",
              "       [  0,   0,   0,   0,   2,   0,   0, 206, 244, 251, 241, 230, 238,\n",
              "        221, 205, 230, 240, 230, 239, 251, 233, 165,   0,   0,   2,   0,\n",
              "          0,   0],\n",
              "       [  0,   0,   0,   1,   0,   0, 199, 251, 228, 234, 233, 236, 235,\n",
              "        245, 247, 237, 234, 239, 230, 230, 235, 255, 176,   0,   0,   1,\n",
              "          0,   0],\n",
              "       [  0,   0,   0,   0,   0,  81, 254, 226, 228, 239, 237, 236, 234,\n",
              "        232, 233, 235, 235, 236, 239, 237, 233, 225, 246,  73,   0,   0,\n",
              "          0,   0],\n",
              "       [  0,   0,   3,   0,   0, 255, 235, 239, 223, 234, 238, 236, 237,\n",
              "        236, 235, 235, 235, 235, 236, 235, 234, 230, 231, 255,  24,   0,\n",
              "          4,   0],\n",
              "       [  0,   0,   0,   0, 177, 239, 223, 254, 223, 232, 234, 234, 236,\n",
              "        236, 235, 235, 235, 235, 235, 234, 231, 233, 222, 246,  88,   0,\n",
              "          1,   0],\n",
              "       [  0,   0,   0,   0, 234, 239, 229, 255, 220, 232, 233, 232, 234,\n",
              "        235, 235, 235, 235, 235, 234, 233, 232, 230, 228, 254, 140,   0,\n",
              "          0,   0],\n",
              "       [  0,   0,   0,   0, 225, 240, 226, 255, 221, 227, 232, 228, 231,\n",
              "        230, 228, 229, 231, 230, 228, 228, 232, 223, 229, 244, 231,   0,\n",
              "          0,   0],\n",
              "       [  0,   0,   0,  47, 245, 231, 234, 249, 229, 221, 229, 225, 229,\n",
              "        227, 226, 227, 228, 227, 228, 229, 228, 224, 246, 240, 227,   0,\n",
              "          0,   0],\n",
              "       [  0,   0,   0,  51, 248, 230, 245, 246, 230, 226, 230, 227, 230,\n",
              "        229, 228, 229, 230, 228, 228, 231, 225, 227, 242, 237, 255,   0,\n",
              "          0,   0],\n",
              "       [  0,   0,   0, 101, 253, 229, 247, 241, 221, 233, 228, 227, 229,\n",
              "        228, 227, 228, 230, 227, 230, 234, 225, 229, 251, 229, 243,  55,\n",
              "          0,   0],\n",
              "       [  0,   0,   0, 102, 255, 227, 242, 241, 221, 234, 223, 230, 228,\n",
              "        231, 229, 231, 231, 227, 229, 241, 219, 236, 254, 225, 250, 167,\n",
              "          0,   0],\n",
              "       [  0,   0,   0,  90, 255, 229, 236, 231, 222, 236, 223, 231, 229,\n",
              "        231, 229, 231, 231, 228, 224, 245, 218, 243, 239, 227, 244, 175,\n",
              "          0,   0],\n",
              "       [  0,   0,   0, 212, 250, 225, 236, 249, 229, 237, 223, 231, 229,\n",
              "        231, 229, 231, 231, 230, 221, 243, 225, 248, 230, 236, 234, 255,\n",
              "          1,   0],\n",
              "       [  0,   0,   0, 245, 243, 232, 243, 218, 228, 238, 222, 231, 229,\n",
              "        231, 229, 231, 231, 230, 222, 237, 237, 252, 229, 239, 240, 223,\n",
              "          0,   0],\n",
              "       [  0,   0,  27, 255, 235, 242, 237, 216, 230, 236, 224, 229, 227,\n",
              "        233, 233, 233, 230, 228, 224, 230, 245, 247, 221, 243, 239, 252,\n",
              "          0,   0],\n",
              "       [  0,   0,  88, 255, 232, 248, 236, 208, 234, 231, 223, 227, 226,\n",
              "        233, 232, 232, 230, 228, 224, 224, 235, 233, 234, 247, 235, 255,\n",
              "          0,   0],\n",
              "       [  0,   0,  83, 255, 225, 250, 237, 224, 236, 229, 225, 225, 227,\n",
              "        235, 229, 231, 230, 230, 227, 221, 227, 221, 239, 250, 231, 255,\n",
              "          0,   0],\n",
              "       [  0,   0,  20, 255, 224, 248, 234, 226, 232, 222, 225, 224, 231,\n",
              "        238, 226, 230, 228, 230, 230, 221, 229, 225, 244, 246, 230, 255,\n",
              "          0,   0],\n",
              "       [  0,   0,  95, 255, 218, 242, 255, 232, 226, 224, 229, 228, 228,\n",
              "        232, 228, 229, 231, 233, 232, 226, 221, 224, 247, 244, 228, 255,\n",
              "          0,   0],\n",
              "       [  0,   0, 167, 255, 213, 235, 255,  81, 245, 251, 238, 236, 230,\n",
              "        229, 230, 229, 230, 231, 238, 240, 255, 192, 255, 239, 228, 255,\n",
              "         23,   0],\n",
              "       [  0,   0, 173, 242, 224, 233, 255,   0, 136, 226, 239, 255, 229,\n",
              "        236, 236, 234, 233, 228, 251, 248, 200,  81, 255, 237, 225, 255,\n",
              "        101,   0],\n",
              "       [  0,   0, 172, 255, 226, 233, 255,   0,   0,   0,   0,   0,   8,\n",
              "         21,  22,  21,  20,  14,   0,   0,   0,   0, 255, 238, 229, 246,\n",
              "        178,   0],\n",
              "       [  0,   0,  16, 255, 236, 238, 252,   0,   0,   0,   0,   0,   0,\n",
              "          0,   0,   0,   0,   0,   0,   0,   0,   0, 222, 244, 222, 254,\n",
              "        119,   0],\n",
              "       [  0,   0,   0,  30, 228, 242, 163,   0,   0,   0,   0,   2,   4,\n",
              "          6,   5,   5,   4,   4,   2,   0,   1,   0, 151, 251, 235, 180,\n",
              "          0,   0],\n",
              "       [  0,   0,   0,   0, 234, 255, 191,   0,  11,   0,   0,   0,   0,\n",
              "          0,   0,   0,   0,   0,   0,   0,   4,   0, 103, 246, 247,  72,\n",
              "          0,   0],\n",
              "       [  0,   0,   0,   1,  95,  77,  52,   0,   4,   0,   0,   0,   0,\n",
              "          0,   0,   0,   0,   0,   0,   0,   3,   0,  82, 237, 231,  70,\n",
              "          0,   0]], dtype=uint8)"
            ]
          },
          "metadata": {},
          "execution_count": 25
        }
      ]
    },
    {
      "cell_type": "code",
      "source": [
        "# Data Normalisation\n",
        "X_train_n = X_train_full/255\n",
        "X_test_n = X_test/255"
      ],
      "metadata": {
        "id": "rMtB0_VdRisk"
      },
      "execution_count": 26,
      "outputs": []
    },
    {
      "cell_type": "markdown",
      "source": [
        "Split the data into train/validation/test datasets\n",
        "In the earlier step of importing the date, we had 60,000 datasets for training and 10,000 test datasets. Now we further split the training data into\n",
        "train/validation. Here is how each type of dateset is used in deep learning:\n",
        "Training data — used for training the model\n",
        "Validation data — used for tuning the hyperparameters and evaluate the models\n",
        "Test data — used to test the model after the model has gone through initial vetting by the validation set."
      ],
      "metadata": {
        "id": "w338B89HSGIS"
      }
    },
    {
      "cell_type": "code",
      "source": [
        "X_valid, X_train = X_train_n[:5000],X_train_n[5000:]\n",
        "y_valid,y_train = y_train_full[:5000], y_train_full[5000:]\n",
        "x_test = X_test_n"
      ],
      "metadata": {
        "id": "lNO0NH6PR60p"
      },
      "execution_count": 27,
      "outputs": []
    },
    {
      "cell_type": "code",
      "source": [
        "X_valid[1]"
      ],
      "metadata": {
        "colab": {
          "base_uri": "https://localhost:8080/"
        },
        "id": "hiYRtzZSS320",
        "outputId": "0d97150f-b4d1-4fb9-d053-7fb0a50093c7"
      },
      "execution_count": 28,
      "outputs": [
        {
          "output_type": "execute_result",
          "data": {
            "text/plain": [
              "array([[0.        , 0.        , 0.        , 0.        , 0.        ,\n",
              "        0.00392157, 0.        , 0.        , 0.        , 0.        ,\n",
              "        0.16078431, 0.7372549 , 0.40392157, 0.21176471, 0.18823529,\n",
              "        0.16862745, 0.34117647, 0.65882353, 0.52156863, 0.0627451 ,\n",
              "        0.        , 0.        , 0.        , 0.        , 0.        ,\n",
              "        0.        , 0.        , 0.        ],\n",
              "       [0.        , 0.        , 0.        , 0.00392157, 0.        ,\n",
              "        0.        , 0.        , 0.19215686, 0.53333333, 0.85882353,\n",
              "        0.84705882, 0.89411765, 0.9254902 , 1.        , 1.        ,\n",
              "        1.        , 1.        , 0.85098039, 0.84313725, 0.99607843,\n",
              "        0.90588235, 0.62745098, 0.17647059, 0.        , 0.        ,\n",
              "        0.        , 0.        , 0.        ],\n",
              "       [0.        , 0.        , 0.        , 0.        , 0.        ,\n",
              "        0.05490196, 0.69019608, 0.87058824, 0.87843137, 0.83137255,\n",
              "        0.79607843, 0.77647059, 0.76862745, 0.78431373, 0.84313725,\n",
              "        0.8       , 0.79215686, 0.78823529, 0.78823529, 0.78823529,\n",
              "        0.81960784, 0.85490196, 0.87843137, 0.64313725, 0.        ,\n",
              "        0.        , 0.        , 0.        ],\n",
              "       [0.        , 0.        , 0.        , 0.        , 0.        ,\n",
              "        0.7372549 , 0.85882353, 0.78431373, 0.77647059, 0.79215686,\n",
              "        0.77647059, 0.78039216, 0.78039216, 0.78823529, 0.76862745,\n",
              "        0.77647059, 0.77647059, 0.78431373, 0.78431373, 0.78431373,\n",
              "        0.78431373, 0.78823529, 0.78431373, 0.88235294, 0.16078431,\n",
              "        0.        , 0.        , 0.        ],\n",
              "       [0.        , 0.        , 0.        , 0.        , 0.2       ,\n",
              "        0.85882353, 0.78039216, 0.79607843, 0.79607843, 0.83137255,\n",
              "        0.93333333, 0.97254902, 0.98039216, 0.96078431, 0.97647059,\n",
              "        0.96470588, 0.96862745, 0.98823529, 0.97254902, 0.92156863,\n",
              "        0.81176471, 0.79607843, 0.79607843, 0.87058824, 0.54901961,\n",
              "        0.        , 0.        , 0.        ],\n",
              "       [0.        , 0.        , 0.        , 0.        , 0.45490196,\n",
              "        0.88627451, 0.80784314, 0.8       , 0.81176471, 0.8       ,\n",
              "        0.39607843, 0.29411765, 0.18431373, 0.28627451, 0.18823529,\n",
              "        0.19607843, 0.17647059, 0.2       , 0.24705882, 0.44313725,\n",
              "        0.87058824, 0.79215686, 0.80784314, 0.8627451 , 0.87843137,\n",
              "        0.        , 0.        , 0.        ],\n",
              "       [0.        , 0.        , 0.        , 0.        , 0.78431373,\n",
              "        0.87058824, 0.81960784, 0.79607843, 0.84313725, 0.78431373,\n",
              "        0.        , 0.2745098 , 0.38431373, 0.        , 0.40392157,\n",
              "        0.23137255, 0.26666667, 0.27843137, 0.19215686, 0.        ,\n",
              "        0.85882353, 0.80784314, 0.83921569, 0.82352941, 0.98039216,\n",
              "        0.14901961, 0.        , 0.        ],\n",
              "       [0.        , 0.        , 0.        , 0.        , 0.96862745,\n",
              "        0.85490196, 0.83137255, 0.82352941, 0.84313725, 0.83921569,\n",
              "        0.        , 0.99607843, 0.95294118, 0.54509804, 1.        ,\n",
              "        0.68235294, 0.98431373, 1.        , 0.80392157, 0.        ,\n",
              "        0.84313725, 0.85098039, 0.83921569, 0.81568627, 0.8627451 ,\n",
              "        0.37254902, 0.        , 0.        ],\n",
              "       [0.        , 0.        , 0.        , 0.17647059, 0.88627451,\n",
              "        0.83921569, 0.83921569, 0.84313725, 0.87843137, 0.80392157,\n",
              "        0.        , 0.16470588, 0.1372549 , 0.23529412, 0.0627451 ,\n",
              "        0.06666667, 0.04705882, 0.05098039, 0.2745098 , 0.        ,\n",
              "        0.74117647, 0.84705882, 0.83137255, 0.80784314, 0.83137255,\n",
              "        0.61176471, 0.        , 0.        ],\n",
              "       [0.        , 0.        , 0.        , 0.64313725, 0.92156863,\n",
              "        0.83921569, 0.82745098, 0.8627451 , 0.84705882, 0.78823529,\n",
              "        0.20392157, 0.27843137, 0.34901961, 0.36862745, 0.3254902 ,\n",
              "        0.30588235, 0.2745098 , 0.29803922, 0.36078431, 0.34117647,\n",
              "        0.80784314, 0.81176471, 0.87058824, 0.83529412, 0.85882353,\n",
              "        0.81568627, 0.        , 0.        ],\n",
              "       [0.        , 0.        , 0.        , 0.41568627, 0.73333333,\n",
              "        0.8745098 , 0.92941176, 0.97254902, 0.82745098, 0.77647059,\n",
              "        0.98823529, 0.98039216, 0.97254902, 0.96078431, 0.97254902,\n",
              "        0.98823529, 0.99215686, 0.98039216, 0.98823529, 0.9372549 ,\n",
              "        0.78823529, 0.83137255, 0.88235294, 0.84313725, 0.75686275,\n",
              "        0.44313725, 0.        , 0.        ],\n",
              "       [0.        , 0.        , 0.        , 0.        , 0.        ,\n",
              "        0.06666667, 0.21176471, 0.62352941, 0.87058824, 0.75686275,\n",
              "        0.81568627, 0.75294118, 0.77254902, 0.78431373, 0.78431373,\n",
              "        0.78431373, 0.78431373, 0.78823529, 0.79607843, 0.76470588,\n",
              "        0.82352941, 0.64705882, 0.        , 0.        , 0.        ,\n",
              "        0.        , 0.        , 0.        ],\n",
              "       [0.        , 0.        , 0.        , 0.        , 0.        ,\n",
              "        0.        , 0.        , 0.18431373, 0.88235294, 0.75294118,\n",
              "        0.83921569, 0.79607843, 0.80784314, 0.8       , 0.8       ,\n",
              "        0.80392157, 0.80784314, 0.8       , 0.83137255, 0.77254902,\n",
              "        0.85490196, 0.41960784, 0.        , 0.        , 0.        ,\n",
              "        0.        , 0.        , 0.        ],\n",
              "       [0.        , 0.        , 0.        , 0.        , 0.00392157,\n",
              "        0.02352941, 0.        , 0.18039216, 0.83137255, 0.76470588,\n",
              "        0.83137255, 0.79215686, 0.80784314, 0.80392157, 0.8       ,\n",
              "        0.80392157, 0.80784314, 0.8       , 0.83137255, 0.78431373,\n",
              "        0.85490196, 0.35686275, 0.        , 0.01176471, 0.00392157,\n",
              "        0.        , 0.        , 0.        ],\n",
              "       [0.        , 0.        , 0.        , 0.        , 0.        ,\n",
              "        0.00392157, 0.        , 0.04313725, 0.77254902, 0.78039216,\n",
              "        0.80392157, 0.79215686, 0.80392157, 0.80784314, 0.8       ,\n",
              "        0.80392157, 0.81176471, 0.8       , 0.80392157, 0.80392157,\n",
              "        0.85490196, 0.30196078, 0.        , 0.01960784, 0.        ,\n",
              "        0.        , 0.        , 0.        ],\n",
              "       [0.        , 0.        , 0.        , 0.        , 0.        ,\n",
              "        0.01176471, 0.        , 0.00784314, 0.74901961, 0.77647059,\n",
              "        0.78823529, 0.80392157, 0.80784314, 0.80392157, 0.80392157,\n",
              "        0.80784314, 0.81960784, 0.80784314, 0.78039216, 0.81960784,\n",
              "        0.85882353, 0.29019608, 0.        , 0.01960784, 0.        ,\n",
              "        0.        , 0.        , 0.        ],\n",
              "       [0.        , 0.        , 0.        , 0.        , 0.        ,\n",
              "        0.00784314, 0.        , 0.        , 0.7372549 , 0.77254902,\n",
              "        0.78431373, 0.81176471, 0.81176471, 0.8       , 0.81176471,\n",
              "        0.81176471, 0.82352941, 0.81568627, 0.77647059, 0.81176471,\n",
              "        0.86666667, 0.28235294, 0.        , 0.01568627, 0.        ,\n",
              "        0.        , 0.        , 0.        ],\n",
              "       [0.        , 0.        , 0.        , 0.        , 0.        ,\n",
              "        0.00784314, 0.        , 0.        , 0.84313725, 0.77647059,\n",
              "        0.79607843, 0.80784314, 0.81568627, 0.80392157, 0.81176471,\n",
              "        0.81176471, 0.82352941, 0.81568627, 0.78431373, 0.79215686,\n",
              "        0.87058824, 0.29411765, 0.        , 0.01568627, 0.        ,\n",
              "        0.        , 0.        , 0.        ],\n",
              "       [0.        , 0.        , 0.        , 0.        , 0.        ,\n",
              "        0.00392157, 0.        , 0.        , 0.83137255, 0.77647059,\n",
              "        0.81960784, 0.80784314, 0.81960784, 0.80784314, 0.81568627,\n",
              "        0.81176471, 0.82745098, 0.80784314, 0.80392157, 0.77647059,\n",
              "        0.86666667, 0.31372549, 0.        , 0.01176471, 0.        ,\n",
              "        0.        , 0.        , 0.        ],\n",
              "       [0.        , 0.        , 0.        , 0.        , 0.        ,\n",
              "        0.00392157, 0.        , 0.        , 0.8       , 0.78823529,\n",
              "        0.80392157, 0.81568627, 0.81176471, 0.80392157, 0.82745098,\n",
              "        0.80392157, 0.82352941, 0.82352941, 0.81960784, 0.76470588,\n",
              "        0.86666667, 0.37647059, 0.        , 0.01176471, 0.        ,\n",
              "        0.        , 0.        , 0.        ],\n",
              "       [0.        , 0.        , 0.        , 0.        , 0.        ,\n",
              "        0.00392157, 0.        , 0.        , 0.79215686, 0.78823529,\n",
              "        0.80392157, 0.81960784, 0.81176471, 0.80392157, 0.83529412,\n",
              "        0.80784314, 0.82352941, 0.81960784, 0.82352941, 0.76078431,\n",
              "        0.85098039, 0.41176471, 0.        , 0.00784314, 0.        ,\n",
              "        0.        , 0.        , 0.        ],\n",
              "       [0.        , 0.        , 0.        , 0.        , 0.        ,\n",
              "        0.00392157, 0.        , 0.        , 0.8       , 0.8       ,\n",
              "        0.80392157, 0.81568627, 0.81176471, 0.80392157, 0.84313725,\n",
              "        0.81176471, 0.82352941, 0.81568627, 0.82745098, 0.75686275,\n",
              "        0.83529412, 0.45098039, 0.        , 0.00784314, 0.        ,\n",
              "        0.        , 0.        , 0.        ],\n",
              "       [0.        , 0.        , 0.        , 0.        , 0.        ,\n",
              "        0.        , 0.        , 0.        , 0.8       , 0.81176471,\n",
              "        0.81176471, 0.81568627, 0.80784314, 0.80784314, 0.84313725,\n",
              "        0.82352941, 0.82352941, 0.81176471, 0.83137255, 0.76470588,\n",
              "        0.82352941, 0.4627451 , 0.        , 0.00784314, 0.        ,\n",
              "        0.        , 0.        , 0.        ],\n",
              "       [0.        , 0.        , 0.        , 0.        , 0.        ,\n",
              "        0.00392157, 0.        , 0.        , 0.77647059, 0.81568627,\n",
              "        0.81568627, 0.81568627, 0.8       , 0.81176471, 0.83137255,\n",
              "        0.83137255, 0.82352941, 0.81176471, 0.82745098, 0.76862745,\n",
              "        0.81176471, 0.4745098 , 0.        , 0.00392157, 0.        ,\n",
              "        0.        , 0.        , 0.        ],\n",
              "       [0.        , 0.        , 0.        , 0.        , 0.        ,\n",
              "        0.00392157, 0.        , 0.        , 0.77647059, 0.82352941,\n",
              "        0.81176471, 0.81568627, 0.80784314, 0.81960784, 0.83529412,\n",
              "        0.83137255, 0.82745098, 0.81176471, 0.82352941, 0.77254902,\n",
              "        0.81176471, 0.48627451, 0.        , 0.00392157, 0.        ,\n",
              "        0.        , 0.        , 0.        ],\n",
              "       [0.        , 0.        , 0.        , 0.        , 0.        ,\n",
              "        0.        , 0.        , 0.        , 0.6745098 , 0.82352941,\n",
              "        0.79607843, 0.78823529, 0.78039216, 0.8       , 0.81176471,\n",
              "        0.80392157, 0.8       , 0.78823529, 0.80392157, 0.77254902,\n",
              "        0.80784314, 0.49803922, 0.        , 0.        , 0.        ,\n",
              "        0.        , 0.        , 0.        ],\n",
              "       [0.        , 0.        , 0.        , 0.        , 0.        ,\n",
              "        0.        , 0.        , 0.        , 0.7372549 , 0.86666667,\n",
              "        0.83921569, 0.91764706, 0.9254902 , 0.93333333, 0.95686275,\n",
              "        0.95686275, 0.95686275, 0.94117647, 0.95294118, 0.83921569,\n",
              "        0.87843137, 0.63529412, 0.        , 0.00784314, 0.        ,\n",
              "        0.        , 0.        , 0.        ],\n",
              "       [0.        , 0.        , 0.        , 0.        , 0.        ,\n",
              "        0.00392157, 0.        , 0.        , 0.54509804, 0.57254902,\n",
              "        0.50980392, 0.52941176, 0.52941176, 0.5372549 , 0.49019608,\n",
              "        0.48627451, 0.49019608, 0.4745098 , 0.46666667, 0.44705882,\n",
              "        0.50980392, 0.29803922, 0.        , 0.        , 0.        ,\n",
              "        0.        , 0.        , 0.        ]])"
            ]
          },
          "metadata": {},
          "execution_count": 28
        }
      ]
    },
    {
      "cell_type": "markdown",
      "source": [
        "Create the model architecture\n",
        "There are two APIs for defining a model in Keras:\n",
        "Sequential model API\n",
        "Functional API"
      ],
      "metadata": {
        "id": "rMalVEd-TAXd"
      }
    },
    {
      "cell_type": "code",
      "source": [
        "np.random.seed(0)\n",
        "tf.random.set_seed(0)"
      ],
      "metadata": {
        "id": "Ky_obNJoS6TS"
      },
      "execution_count": 30,
      "outputs": []
    },
    {
      "cell_type": "code",
      "source": [
        "model = keras.models.Sequential()\n",
        "model.add(keras.layers.Flatten(input_shape=[28,28]))\n",
        "model.add(keras.layers.Dense(300,activation=\"relu\"))\n",
        "model.add(keras.layers.Dense(200,activation=\"relu\"))\n",
        "model.add(keras.layers.Dense(100,activation=\"relu\"))\n",
        "model.add(keras.layers.Dense(20,activation=\"softmax\"))"
      ],
      "metadata": {
        "id": "y7dxwfeuTI25"
      },
      "execution_count": 32,
      "outputs": []
    },
    {
      "cell_type": "code",
      "source": [
        "model.summary()"
      ],
      "metadata": {
        "colab": {
          "base_uri": "https://localhost:8080/"
        },
        "id": "-iYkN3dRUOvs",
        "outputId": "c76fbeae-2f81-4a36-8145-1cc93b1f2870"
      },
      "execution_count": 33,
      "outputs": [
        {
          "output_type": "stream",
          "name": "stdout",
          "text": [
            "Model: \"sequential_1\"\n",
            "_________________________________________________________________\n",
            " Layer (type)                Output Shape              Param #   \n",
            "=================================================================\n",
            " flatten (Flatten)           (None, 784)               0         \n",
            "                                                                 \n",
            " dense (Dense)               (None, 300)               235500    \n",
            "                                                                 \n",
            " dense_1 (Dense)             (None, 200)               60200     \n",
            "                                                                 \n",
            " dense_2 (Dense)             (None, 100)               20100     \n",
            "                                                                 \n",
            " dense_3 (Dense)             (None, 20)                2020      \n",
            "                                                                 \n",
            "=================================================================\n",
            "Total params: 317820 (1.21 MB)\n",
            "Trainable params: 317820 (1.21 MB)\n",
            "Non-trainable params: 0 (0.00 Byte)\n",
            "_________________________________________________________________\n"
          ]
        }
      ]
    },
    {
      "cell_type": "code",
      "source": [
        "import visualkeras\n",
        "from PIL import Image, ImageDraw, ImageFont\n",
        "font = ImageFont.truetype(\"arial.ttf\", 2)\n",
        "visualkeras.layered_view(model, legend=True, font=font)"
      ],
      "metadata": {
        "colab": {
          "base_uri": "https://localhost:8080/",
          "height": 373
        },
        "id": "5m0ZuKvbUdCZ",
        "outputId": "388c3361-eaff-483a-c870-7f1a84c0c352"
      },
      "execution_count": 48,
      "outputs": [
        {
          "output_type": "error",
          "ename": "OSError",
          "evalue": "ignored",
          "traceback": [
            "\u001b[0;31m---------------------------------------------------------------------------\u001b[0m",
            "\u001b[0;31mOSError\u001b[0m                                   Traceback (most recent call last)",
            "\u001b[0;32m<ipython-input-48-e4bc64407187>\u001b[0m in \u001b[0;36m<cell line: 3>\u001b[0;34m()\u001b[0m\n\u001b[1;32m      1\u001b[0m \u001b[0;32mimport\u001b[0m \u001b[0mvisualkeras\u001b[0m\u001b[0;34m\u001b[0m\u001b[0;34m\u001b[0m\u001b[0m\n\u001b[1;32m      2\u001b[0m \u001b[0;32mfrom\u001b[0m \u001b[0mPIL\u001b[0m \u001b[0;32mimport\u001b[0m \u001b[0mImage\u001b[0m\u001b[0;34m,\u001b[0m \u001b[0mImageDraw\u001b[0m\u001b[0;34m,\u001b[0m \u001b[0mImageFont\u001b[0m\u001b[0;34m\u001b[0m\u001b[0;34m\u001b[0m\u001b[0m\n\u001b[0;32m----> 3\u001b[0;31m \u001b[0mfont\u001b[0m \u001b[0;34m=\u001b[0m \u001b[0mImageFont\u001b[0m\u001b[0;34m.\u001b[0m\u001b[0mtruetype\u001b[0m\u001b[0;34m(\u001b[0m\u001b[0;34m\"arial.ttf\"\u001b[0m\u001b[0;34m,\u001b[0m \u001b[0;36m2\u001b[0m\u001b[0;34m)\u001b[0m\u001b[0;34m\u001b[0m\u001b[0;34m\u001b[0m\u001b[0m\n\u001b[0m\u001b[1;32m      4\u001b[0m \u001b[0mvisualkeras\u001b[0m\u001b[0;34m.\u001b[0m\u001b[0mlayered_view\u001b[0m\u001b[0;34m(\u001b[0m\u001b[0mmodel\u001b[0m\u001b[0;34m,\u001b[0m \u001b[0mlegend\u001b[0m\u001b[0;34m=\u001b[0m\u001b[0;32mTrue\u001b[0m\u001b[0;34m,\u001b[0m \u001b[0mfont\u001b[0m\u001b[0;34m=\u001b[0m\u001b[0mfont\u001b[0m\u001b[0;34m)\u001b[0m\u001b[0;34m\u001b[0m\u001b[0;34m\u001b[0m\u001b[0m\n",
            "\u001b[0;32m/usr/local/lib/python3.10/dist-packages/PIL/ImageFont.py\u001b[0m in \u001b[0;36mtruetype\u001b[0;34m(font, size, index, encoding, layout_engine)\u001b[0m\n\u001b[1;32m   1006\u001b[0m \u001b[0;34m\u001b[0m\u001b[0m\n\u001b[1;32m   1007\u001b[0m     \u001b[0;32mtry\u001b[0m\u001b[0;34m:\u001b[0m\u001b[0;34m\u001b[0m\u001b[0;34m\u001b[0m\u001b[0m\n\u001b[0;32m-> 1008\u001b[0;31m         \u001b[0;32mreturn\u001b[0m \u001b[0mfreetype\u001b[0m\u001b[0;34m(\u001b[0m\u001b[0mfont\u001b[0m\u001b[0;34m)\u001b[0m\u001b[0;34m\u001b[0m\u001b[0;34m\u001b[0m\u001b[0m\n\u001b[0m\u001b[1;32m   1009\u001b[0m     \u001b[0;32mexcept\u001b[0m \u001b[0mOSError\u001b[0m\u001b[0;34m:\u001b[0m\u001b[0;34m\u001b[0m\u001b[0;34m\u001b[0m\u001b[0m\n\u001b[1;32m   1010\u001b[0m         \u001b[0;32mif\u001b[0m \u001b[0;32mnot\u001b[0m \u001b[0mis_path\u001b[0m\u001b[0;34m(\u001b[0m\u001b[0mfont\u001b[0m\u001b[0;34m)\u001b[0m\u001b[0;34m:\u001b[0m\u001b[0;34m\u001b[0m\u001b[0;34m\u001b[0m\u001b[0m\n",
            "\u001b[0;32m/usr/local/lib/python3.10/dist-packages/PIL/ImageFont.py\u001b[0m in \u001b[0;36mfreetype\u001b[0;34m(font)\u001b[0m\n\u001b[1;32m   1003\u001b[0m \u001b[0;34m\u001b[0m\u001b[0m\n\u001b[1;32m   1004\u001b[0m     \u001b[0;32mdef\u001b[0m \u001b[0mfreetype\u001b[0m\u001b[0;34m(\u001b[0m\u001b[0mfont\u001b[0m\u001b[0;34m)\u001b[0m\u001b[0;34m:\u001b[0m\u001b[0;34m\u001b[0m\u001b[0;34m\u001b[0m\u001b[0m\n\u001b[0;32m-> 1005\u001b[0;31m         \u001b[0;32mreturn\u001b[0m \u001b[0mFreeTypeFont\u001b[0m\u001b[0;34m(\u001b[0m\u001b[0mfont\u001b[0m\u001b[0;34m,\u001b[0m \u001b[0msize\u001b[0m\u001b[0;34m,\u001b[0m \u001b[0mindex\u001b[0m\u001b[0;34m,\u001b[0m \u001b[0mencoding\u001b[0m\u001b[0;34m,\u001b[0m \u001b[0mlayout_engine\u001b[0m\u001b[0;34m)\u001b[0m\u001b[0;34m\u001b[0m\u001b[0;34m\u001b[0m\u001b[0m\n\u001b[0m\u001b[1;32m   1006\u001b[0m \u001b[0;34m\u001b[0m\u001b[0m\n\u001b[1;32m   1007\u001b[0m     \u001b[0;32mtry\u001b[0m\u001b[0;34m:\u001b[0m\u001b[0;34m\u001b[0m\u001b[0;34m\u001b[0m\u001b[0m\n",
            "\u001b[0;32m/usr/local/lib/python3.10/dist-packages/PIL/ImageFont.py\u001b[0m in \u001b[0;36m__init__\u001b[0;34m(self, font, size, index, encoding, layout_engine)\u001b[0m\n\u001b[1;32m    253\u001b[0m                         \u001b[0mload_from_bytes\u001b[0m\u001b[0;34m(\u001b[0m\u001b[0mf\u001b[0m\u001b[0;34m)\u001b[0m\u001b[0;34m\u001b[0m\u001b[0;34m\u001b[0m\u001b[0m\n\u001b[1;32m    254\u001b[0m                     \u001b[0;32mreturn\u001b[0m\u001b[0;34m\u001b[0m\u001b[0;34m\u001b[0m\u001b[0m\n\u001b[0;32m--> 255\u001b[0;31m             self.font = core.getfont(\n\u001b[0m\u001b[1;32m    256\u001b[0m                 \u001b[0mfont\u001b[0m\u001b[0;34m,\u001b[0m \u001b[0msize\u001b[0m\u001b[0;34m,\u001b[0m \u001b[0mindex\u001b[0m\u001b[0;34m,\u001b[0m \u001b[0mencoding\u001b[0m\u001b[0;34m,\u001b[0m \u001b[0mlayout_engine\u001b[0m\u001b[0;34m=\u001b[0m\u001b[0mlayout_engine\u001b[0m\u001b[0;34m\u001b[0m\u001b[0;34m\u001b[0m\u001b[0m\n\u001b[1;32m    257\u001b[0m             )\n",
            "\u001b[0;31mOSError\u001b[0m: cannot open resource"
          ]
        }
      ]
    },
    {
      "cell_type": "code",
      "source": [
        "pip install visualkeras"
      ],
      "metadata": {
        "colab": {
          "base_uri": "https://localhost:8080/"
        },
        "id": "YMiYeLEzUud3",
        "outputId": "171ba19a-51c4-4e17-c242-28bc7b1cfeb7"
      },
      "execution_count": 42,
      "outputs": [
        {
          "output_type": "stream",
          "name": "stdout",
          "text": [
            "Collecting visualkeras\n",
            "  Downloading visualkeras-0.0.2-py3-none-any.whl (12 kB)\n",
            "Requirement already satisfied: pillow>=6.2.0 in /usr/local/lib/python3.10/dist-packages (from visualkeras) (9.4.0)\n",
            "Requirement already satisfied: numpy>=1.18.1 in /usr/local/lib/python3.10/dist-packages (from visualkeras) (1.23.5)\n",
            "Collecting aggdraw>=1.3.11 (from visualkeras)\n",
            "  Downloading aggdraw-1.3.16-cp310-cp310-manylinux_2_17_x86_64.manylinux2014_x86_64.whl (993 kB)\n",
            "\u001b[2K     \u001b[90m━━━━━━━━━━━━━━━━━━━━━━━━━━━━━━━━━━━━━━\u001b[0m \u001b[32m993.0/993.0 kB\u001b[0m \u001b[31m11.0 MB/s\u001b[0m eta \u001b[36m0:00:00\u001b[0m\n",
            "\u001b[?25hInstalling collected packages: aggdraw, visualkeras\n",
            "Successfully installed aggdraw-1.3.16 visualkeras-0.0.2\n"
          ]
        }
      ]
    },
    {
      "cell_type": "code",
      "source": [
        "weights, biases = model.layers[2].get_weights()"
      ],
      "metadata": {
        "id": "duwGpKUlVwoH"
      },
      "execution_count": 49,
      "outputs": []
    },
    {
      "cell_type": "code",
      "source": [
        "weights"
      ],
      "metadata": {
        "colab": {
          "base_uri": "https://localhost:8080/"
        },
        "id": "y1VkGyCWX-dR",
        "outputId": "c7588343-f170-4820-9fa0-921a3d9603b0"
      },
      "execution_count": 50,
      "outputs": [
        {
          "output_type": "execute_result",
          "data": {
            "text/plain": [
              "array([[-0.03298458,  0.10163862,  0.02637731, ...,  0.10671491,\n",
              "         0.07518993, -0.07430834],\n",
              "       [-0.10001459,  0.06372116, -0.07418039, ...,  0.01421662,\n",
              "        -0.03583749,  0.0869268 ],\n",
              "       [ 0.00861931, -0.00952119,  0.06567984, ..., -0.06788136,\n",
              "        -0.10148929,  0.05179115],\n",
              "       ...,\n",
              "       [-0.09289646, -0.0399107 , -0.01104403, ..., -0.06852317,\n",
              "        -0.03388326,  0.05219067],\n",
              "       [ 0.09069271,  0.09657905,  0.00151421, ..., -0.03271335,\n",
              "         0.07269841, -0.05131269],\n",
              "       [-0.08260024,  0.09899721, -0.08378751, ...,  0.06396428,\n",
              "         0.02909612,  0.09998711]], dtype=float32)"
            ]
          },
          "metadata": {},
          "execution_count": 50
        }
      ]
    },
    {
      "cell_type": "code",
      "source": [
        "weights.shape"
      ],
      "metadata": {
        "colab": {
          "base_uri": "https://localhost:8080/"
        },
        "id": "1BRYudu6YBWm",
        "outputId": "b4bbd2a3-5fdc-4844-8f96-6c67e5183be3"
      },
      "execution_count": 51,
      "outputs": [
        {
          "output_type": "execute_result",
          "data": {
            "text/plain": [
              "(300, 200)"
            ]
          },
          "metadata": {},
          "execution_count": 51
        }
      ]
    },
    {
      "cell_type": "code",
      "source": [
        "biases"
      ],
      "metadata": {
        "colab": {
          "base_uri": "https://localhost:8080/"
        },
        "id": "I_M65HnIYEOh",
        "outputId": "a33680e3-b9ce-4889-8928-ae7cccea0c00"
      },
      "execution_count": 53,
      "outputs": [
        {
          "output_type": "execute_result",
          "data": {
            "text/plain": [
              "array([0., 0., 0., 0., 0., 0., 0., 0., 0., 0., 0., 0., 0., 0., 0., 0., 0.,\n",
              "       0., 0., 0., 0., 0., 0., 0., 0., 0., 0., 0., 0., 0., 0., 0., 0., 0.,\n",
              "       0., 0., 0., 0., 0., 0., 0., 0., 0., 0., 0., 0., 0., 0., 0., 0., 0.,\n",
              "       0., 0., 0., 0., 0., 0., 0., 0., 0., 0., 0., 0., 0., 0., 0., 0., 0.,\n",
              "       0., 0., 0., 0., 0., 0., 0., 0., 0., 0., 0., 0., 0., 0., 0., 0., 0.,\n",
              "       0., 0., 0., 0., 0., 0., 0., 0., 0., 0., 0., 0., 0., 0., 0., 0., 0.,\n",
              "       0., 0., 0., 0., 0., 0., 0., 0., 0., 0., 0., 0., 0., 0., 0., 0., 0.,\n",
              "       0., 0., 0., 0., 0., 0., 0., 0., 0., 0., 0., 0., 0., 0., 0., 0., 0.,\n",
              "       0., 0., 0., 0., 0., 0., 0., 0., 0., 0., 0., 0., 0., 0., 0., 0., 0.,\n",
              "       0., 0., 0., 0., 0., 0., 0., 0., 0., 0., 0., 0., 0., 0., 0., 0., 0.,\n",
              "       0., 0., 0., 0., 0., 0., 0., 0., 0., 0., 0., 0., 0., 0., 0., 0., 0.,\n",
              "       0., 0., 0., 0., 0., 0., 0., 0., 0., 0., 0., 0., 0.], dtype=float32)"
            ]
          },
          "metadata": {},
          "execution_count": 53
        }
      ]
    },
    {
      "cell_type": "code",
      "source": [
        "biases.shape"
      ],
      "metadata": {
        "colab": {
          "base_uri": "https://localhost:8080/"
        },
        "id": "imagd0aEYGQT",
        "outputId": "418ed461-5037-450a-dbd5-66cfda1a3afd"
      },
      "execution_count": 54,
      "outputs": [
        {
          "output_type": "execute_result",
          "data": {
            "text/plain": [
              "(200,)"
            ]
          },
          "metadata": {},
          "execution_count": 54
        }
      ]
    },
    {
      "cell_type": "code",
      "source": [
        "model.compile(loss = \"sparse_categorical_crossentropy\",optimizer=\"sgd\",metrics=\"accuracy\")"
      ],
      "metadata": {
        "id": "GJdNwzV1YKlc"
      },
      "execution_count": 55,
      "outputs": []
    },
    {
      "cell_type": "code",
      "source": [
        "model_history = model.fit(X_train,y_train,epochs=30,batch_size=40,validation_data=(X_valid,y_valid))"
      ],
      "metadata": {
        "colab": {
          "base_uri": "https://localhost:8080/"
        },
        "id": "gcgRddypYZQE",
        "outputId": "ad0841a3-4aec-4460-b1d5-601b007aec37"
      },
      "execution_count": 56,
      "outputs": [
        {
          "output_type": "stream",
          "name": "stdout",
          "text": [
            "Epoch 1/30\n",
            "1375/1375 [==============================] - 9s 6ms/step - loss: 0.8185 - accuracy: 0.7277 - val_loss: 0.5117 - val_accuracy: 0.8272\n",
            "Epoch 2/30\n",
            "1375/1375 [==============================] - 8s 5ms/step - loss: 0.5054 - accuracy: 0.8236 - val_loss: 0.4534 - val_accuracy: 0.8448\n",
            "Epoch 3/30\n",
            "1375/1375 [==============================] - 10s 7ms/step - loss: 0.4523 - accuracy: 0.8423 - val_loss: 0.4230 - val_accuracy: 0.8566\n",
            "Epoch 4/30\n",
            "1375/1375 [==============================] - 9s 6ms/step - loss: 0.4205 - accuracy: 0.8527 - val_loss: 0.4184 - val_accuracy: 0.8562\n",
            "Epoch 5/30\n",
            "1375/1375 [==============================] - 7s 5ms/step - loss: 0.3968 - accuracy: 0.8614 - val_loss: 0.3758 - val_accuracy: 0.8694\n",
            "Epoch 6/30\n",
            "1375/1375 [==============================] - 8s 6ms/step - loss: 0.3774 - accuracy: 0.8666 - val_loss: 0.3618 - val_accuracy: 0.8740\n",
            "Epoch 7/30\n",
            "1375/1375 [==============================] - 8s 6ms/step - loss: 0.3624 - accuracy: 0.8712 - val_loss: 0.3590 - val_accuracy: 0.8736\n",
            "Epoch 8/30\n",
            "1375/1375 [==============================] - 7s 5ms/step - loss: 0.3482 - accuracy: 0.8760 - val_loss: 0.3681 - val_accuracy: 0.8682\n",
            "Epoch 9/30\n",
            "1375/1375 [==============================] - 8s 6ms/step - loss: 0.3375 - accuracy: 0.8804 - val_loss: 0.3739 - val_accuracy: 0.8680\n",
            "Epoch 10/30\n",
            "1375/1375 [==============================] - 6s 5ms/step - loss: 0.3278 - accuracy: 0.8831 - val_loss: 0.3384 - val_accuracy: 0.8784\n",
            "Epoch 11/30\n",
            "1375/1375 [==============================] - 8s 6ms/step - loss: 0.3189 - accuracy: 0.8860 - val_loss: 0.3819 - val_accuracy: 0.8552\n",
            "Epoch 12/30\n",
            "1375/1375 [==============================] - 8s 6ms/step - loss: 0.3095 - accuracy: 0.8884 - val_loss: 0.3352 - val_accuracy: 0.8810\n",
            "Epoch 13/30\n",
            "1375/1375 [==============================] - 7s 5ms/step - loss: 0.3027 - accuracy: 0.8899 - val_loss: 0.3417 - val_accuracy: 0.8778\n",
            "Epoch 14/30\n",
            "1375/1375 [==============================] - 8s 6ms/step - loss: 0.2954 - accuracy: 0.8929 - val_loss: 0.3295 - val_accuracy: 0.8820\n",
            "Epoch 15/30\n",
            "1375/1375 [==============================] - 7s 5ms/step - loss: 0.2894 - accuracy: 0.8942 - val_loss: 0.3178 - val_accuracy: 0.8838\n",
            "Epoch 16/30\n",
            "1375/1375 [==============================] - 10s 7ms/step - loss: 0.2826 - accuracy: 0.8966 - val_loss: 0.3303 - val_accuracy: 0.8782\n",
            "Epoch 17/30\n",
            "1375/1375 [==============================] - 8s 6ms/step - loss: 0.2765 - accuracy: 0.8998 - val_loss: 0.3168 - val_accuracy: 0.8864\n",
            "Epoch 18/30\n",
            "1375/1375 [==============================] - 7s 5ms/step - loss: 0.2714 - accuracy: 0.9012 - val_loss: 0.3228 - val_accuracy: 0.8832\n",
            "Epoch 19/30\n",
            "1375/1375 [==============================] - 9s 7ms/step - loss: 0.2656 - accuracy: 0.9032 - val_loss: 0.3086 - val_accuracy: 0.8886\n",
            "Epoch 20/30\n",
            "1375/1375 [==============================] - 16s 11ms/step - loss: 0.2596 - accuracy: 0.9055 - val_loss: 0.3172 - val_accuracy: 0.8826\n",
            "Epoch 21/30\n",
            "1375/1375 [==============================] - 9s 7ms/step - loss: 0.2546 - accuracy: 0.9077 - val_loss: 0.3055 - val_accuracy: 0.8860\n",
            "Epoch 22/30\n",
            "1375/1375 [==============================] - 8s 6ms/step - loss: 0.2501 - accuracy: 0.9105 - val_loss: 0.3137 - val_accuracy: 0.8858\n",
            "Epoch 23/30\n",
            "1375/1375 [==============================] - 8s 6ms/step - loss: 0.2449 - accuracy: 0.9113 - val_loss: 0.3160 - val_accuracy: 0.8846\n",
            "Epoch 24/30\n",
            "1375/1375 [==============================] - 8s 6ms/step - loss: 0.2421 - accuracy: 0.9125 - val_loss: 0.3237 - val_accuracy: 0.8786\n",
            "Epoch 25/30\n",
            "1375/1375 [==============================] - 7s 5ms/step - loss: 0.2367 - accuracy: 0.9139 - val_loss: 0.3009 - val_accuracy: 0.8886\n",
            "Epoch 26/30\n",
            "1375/1375 [==============================] - 8s 6ms/step - loss: 0.2329 - accuracy: 0.9154 - val_loss: 0.3059 - val_accuracy: 0.8848\n",
            "Epoch 27/30\n",
            "1375/1375 [==============================] - 7s 5ms/step - loss: 0.2279 - accuracy: 0.9169 - val_loss: 0.3010 - val_accuracy: 0.8914\n",
            "Epoch 28/30\n",
            "1375/1375 [==============================] - 9s 6ms/step - loss: 0.2237 - accuracy: 0.9187 - val_loss: 0.2973 - val_accuracy: 0.8940\n",
            "Epoch 29/30\n",
            "1375/1375 [==============================] - 8s 6ms/step - loss: 0.2202 - accuracy: 0.9204 - val_loss: 0.3002 - val_accuracy: 0.8916\n",
            "Epoch 30/30\n",
            "1375/1375 [==============================] - 7s 5ms/step - loss: 0.2152 - accuracy: 0.9217 - val_loss: 0.3083 - val_accuracy: 0.8888\n"
          ]
        }
      ]
    },
    {
      "cell_type": "code",
      "source": [
        "model.history.params"
      ],
      "metadata": {
        "colab": {
          "base_uri": "https://localhost:8080/"
        },
        "id": "iMVfbHotYsR7",
        "outputId": "16981ad6-6647-45fb-ad37-e09e5a444e90"
      },
      "execution_count": 57,
      "outputs": [
        {
          "output_type": "execute_result",
          "data": {
            "text/plain": [
              "{'verbose': 1, 'epochs': 30, 'steps': 1375}"
            ]
          },
          "metadata": {},
          "execution_count": 57
        }
      ]
    },
    {
      "cell_type": "code",
      "source": [
        "model_history.history"
      ],
      "metadata": {
        "colab": {
          "base_uri": "https://localhost:8080/"
        },
        "id": "2st-gxdlZTd0",
        "outputId": "0aa02b75-ad97-498b-f175-72e4a5466fda"
      },
      "execution_count": 58,
      "outputs": [
        {
          "output_type": "execute_result",
          "data": {
            "text/plain": [
              "{'loss': [0.8185227513313293,\n",
              "  0.5053827166557312,\n",
              "  0.45229727029800415,\n",
              "  0.4204593300819397,\n",
              "  0.39683273434638977,\n",
              "  0.37737295031547546,\n",
              "  0.36237379908561707,\n",
              "  0.3481782078742981,\n",
              "  0.33754757046699524,\n",
              "  0.327804297208786,\n",
              "  0.3188570439815521,\n",
              "  0.3094923198223114,\n",
              "  0.302670955657959,\n",
              "  0.29538390040397644,\n",
              "  0.2893672287464142,\n",
              "  0.2826216518878937,\n",
              "  0.2765125632286072,\n",
              "  0.2713611125946045,\n",
              "  0.26558127999305725,\n",
              "  0.259627103805542,\n",
              "  0.254564493894577,\n",
              "  0.25014638900756836,\n",
              "  0.24489545822143555,\n",
              "  0.24212495982646942,\n",
              "  0.23669444024562836,\n",
              "  0.23291924595832825,\n",
              "  0.22786693274974823,\n",
              "  0.22370776534080505,\n",
              "  0.22017650306224823,\n",
              "  0.2152498960494995],\n",
              " 'accuracy': [0.7277272939682007,\n",
              "  0.8235636353492737,\n",
              "  0.8423091173171997,\n",
              "  0.8527091145515442,\n",
              "  0.8614363670349121,\n",
              "  0.8665817975997925,\n",
              "  0.871218204498291,\n",
              "  0.8760363459587097,\n",
              "  0.880436360836029,\n",
              "  0.8830909132957458,\n",
              "  0.8859999775886536,\n",
              "  0.8884181976318359,\n",
              "  0.8898909091949463,\n",
              "  0.8928727507591248,\n",
              "  0.8942182064056396,\n",
              "  0.8965636491775513,\n",
              "  0.8998000025749207,\n",
              "  0.9011818170547485,\n",
              "  0.9032182097434998,\n",
              "  0.9055091142654419,\n",
              "  0.9076545238494873,\n",
              "  0.9104909300804138,\n",
              "  0.9113090634346008,\n",
              "  0.9124909043312073,\n",
              "  0.9138908982276917,\n",
              "  0.9154000282287598,\n",
              "  0.9168545603752136,\n",
              "  0.9187090992927551,\n",
              "  0.9203818440437317,\n",
              "  0.9217272996902466],\n",
              " 'val_loss': [0.5117412209510803,\n",
              "  0.4533863365650177,\n",
              "  0.42296621203422546,\n",
              "  0.41841205954551697,\n",
              "  0.3758052587509155,\n",
              "  0.3617907166481018,\n",
              "  0.35903382301330566,\n",
              "  0.36811843514442444,\n",
              "  0.3739219605922699,\n",
              "  0.33841753005981445,\n",
              "  0.38191360235214233,\n",
              "  0.3352232277393341,\n",
              "  0.34172362089157104,\n",
              "  0.32945960760116577,\n",
              "  0.3177541494369507,\n",
              "  0.3303009867668152,\n",
              "  0.31679993867874146,\n",
              "  0.32279494404792786,\n",
              "  0.30863696336746216,\n",
              "  0.3171674311161041,\n",
              "  0.305536687374115,\n",
              "  0.313679575920105,\n",
              "  0.31603240966796875,\n",
              "  0.32374173402786255,\n",
              "  0.30092567205429077,\n",
              "  0.3059239685535431,\n",
              "  0.3009815216064453,\n",
              "  0.2972956597805023,\n",
              "  0.3001583516597748,\n",
              "  0.3082898259162903],\n",
              " 'val_accuracy': [0.8271999955177307,\n",
              "  0.8447999954223633,\n",
              "  0.8565999865531921,\n",
              "  0.8561999797821045,\n",
              "  0.8694000244140625,\n",
              "  0.8740000128746033,\n",
              "  0.8736000061035156,\n",
              "  0.8682000041007996,\n",
              "  0.8679999709129333,\n",
              "  0.8784000277519226,\n",
              "  0.8551999926567078,\n",
              "  0.8809999823570251,\n",
              "  0.8777999877929688,\n",
              "  0.8820000290870667,\n",
              "  0.8838000297546387,\n",
              "  0.8781999945640564,\n",
              "  0.8863999843597412,\n",
              "  0.8831999897956848,\n",
              "  0.8885999917984009,\n",
              "  0.8826000094413757,\n",
              "  0.8859999775886536,\n",
              "  0.8858000040054321,\n",
              "  0.8845999836921692,\n",
              "  0.878600001335144,\n",
              "  0.8885999917984009,\n",
              "  0.8848000168800354,\n",
              "  0.8913999795913696,\n",
              "  0.8939999938011169,\n",
              "  0.8916000127792358,\n",
              "  0.8888000249862671]}"
            ]
          },
          "metadata": {},
          "execution_count": 58
        }
      ]
    },
    {
      "cell_type": "code",
      "source": [
        "pd.DataFrame(model_history.history).plot(figsize=(8,7))\n",
        "plt.grid(True)\n",
        "plt.gca().set_ylim(0,1)\n",
        "plt.show()"
      ],
      "metadata": {
        "colab": {
          "base_uri": "https://localhost:8080/",
          "height": 605
        },
        "id": "KuRWAv2mZ1vW",
        "outputId": "f52883e1-944d-43cc-88a3-3c7326c87d24"
      },
      "execution_count": 59,
      "outputs": [
        {
          "output_type": "display_data",
          "data": {
            "text/plain": [
              "<Figure size 800x700 with 1 Axes>"
            ],
            "image/png": "[encoded data removed]"
          },
          "metadata": {}
        }
      ]
    },
    {
      "cell_type": "code",
      "source": [
        "model.evaluate(X_test,y_test)"
      ],
      "metadata": {
        "colab": {
          "base_uri": "https://localhost:8080/"
        },
        "id": "DRvIHnH_aNxa",
        "outputId": "d2fa5707-96bf-4102-8df0-a36d6fdf38d3"
      },
      "execution_count": 61,
      "outputs": [
        {
          "output_type": "stream",
          "name": "stdout",
          "text": [
            "313/313 [==============================] - 2s 5ms/step - loss: 56.8072 - accuracy: 0.8499\n"
          ]
        },
        {
          "output_type": "execute_result",
          "data": {
            "text/plain": [
              "[56.807186126708984, 0.8499000072479248]"
            ]
          },
          "metadata": {},
          "execution_count": 61
        }
      ]
    },
    {
      "cell_type": "code",
      "source": [
        "print(model.metrics_names)"
      ],
      "metadata": {
        "colab": {
          "base_uri": "https://localhost:8080/"
        },
        "id": "L7vP4pqkaWFS",
        "outputId": "049eea17-ad28-45f8-db26-d700e1ded017"
      },
      "execution_count": 62,
      "outputs": [
        {
          "output_type": "stream",
          "name": "stdout",
          "text": [
            "['loss', 'accuracy']\n"
          ]
        }
      ]
    },
    {
      "cell_type": "code",
      "source": [
        "X_new = X_test[:5]"
      ],
      "metadata": {
        "id": "TxLhk9lUacpt"
      },
      "execution_count": 63,
      "outputs": []
    },
    {
      "cell_type": "code",
      "source": [
        "y_prob = model.predict(X_new)\n",
        "y_prob.round(2)"
      ],
      "metadata": {
        "colab": {
          "base_uri": "https://localhost:8080/"
        },
        "id": "W2ah9oN6ag57",
        "outputId": "80e5020e-ba03-4710-df7c-4e8f39fbaba8"
      },
      "execution_count": 64,
      "outputs": [
        {
          "output_type": "stream",
          "name": "stdout",
          "text": [
            "1/1 [==============================] - 0s 192ms/step\n"
          ]
        },
        {
          "output_type": "execute_result",
          "data": {
            "text/plain": [
              "array([[0., 0., 0., 0., 0., 0., 0., 0., 0., 1., 0., 0., 0., 0., 0., 0.,\n",
              "        0., 0., 0., 0.],\n",
              "       [0., 0., 1., 0., 0., 0., 0., 0., 0., 0., 0., 0., 0., 0., 0., 0.,\n",
              "        0., 0., 0., 0.],\n",
              "       [0., 1., 0., 0., 0., 0., 0., 0., 0., 0., 0., 0., 0., 0., 0., 0.,\n",
              "        0., 0., 0., 0.],\n",
              "       [0., 1., 0., 0., 0., 0., 0., 0., 0., 0., 0., 0., 0., 0., 0., 0.,\n",
              "        0., 0., 0., 0.],\n",
              "       [0., 0., 0., 0., 0., 0., 1., 0., 0., 0., 0., 0., 0., 0., 0., 0.,\n",
              "        0., 0., 0., 0.]], dtype=float32)"
            ]
          },
          "metadata": {},
          "execution_count": 64
        }
      ]
    },
    {
      "cell_type": "code",
      "source": [
        "y_pred = model.predict(X_new)\n",
        "classes = np.argmax(y_pred,axis=1)\n",
        "print(classes)"
      ],
      "metadata": {
        "colab": {
          "base_uri": "https://localhost:8080/"
        },
        "id": "Xwj-fhSoaoGg",
        "outputId": "788957b8-2564-4c72-c4bf-af114e739aaa"
      },
      "execution_count": 65,
      "outputs": [
        {
          "output_type": "stream",
          "name": "stdout",
          "text": [
            "1/1 [==============================] - 0s 27ms/step\n",
            "[9 2 1 1 6]\n"
          ]
        }
      ]
    },
    {
      "cell_type": "code",
      "source": [
        "np.array(class_names)[classes]"
      ],
      "metadata": {
        "colab": {
          "base_uri": "https://localhost:8080/"
        },
        "id": "iDgU_Ns6aynN",
        "outputId": "e9b02620-e5a9-42c7-c2f0-c7235859f7bc"
      },
      "execution_count": 66,
      "outputs": [
        {
          "output_type": "execute_result",
          "data": {
            "text/plain": [
              "array(['Sneaker', 'Pullover', 'Trouser', 'Trouser', 'Shirt'], dtype='<U11')"
            ]
          },
          "metadata": {},
          "execution_count": 66
        }
      ]
    },
    {
      "cell_type": "code",
      "source": [
        "print(plt.imshow(X_test[0]))"
      ],
      "metadata": {
        "colab": {
          "base_uri": "https://localhost:8080/",
          "height": 447
        },
        "id": "6E7maLA8a6jm",
        "outputId": "05fa5cbc-e233-46f8-9742-9a6f680a462a"
      },
      "execution_count": 68,
      "outputs": [
        {
          "output_type": "stream",
          "name": "stdout",
          "text": [
            "AxesImage(size=(28, 28))\n"
          ]
        },
        {
          "output_type": "display_data",
          "data": {
            "text/plain": [
              "<Figure size 640x480 with 1 Axes>"
            ],
            "image/png": "[encoded data removed]"
          },
          "metadata": {}
        }
      ]
    },
    {
      "cell_type": "code",
      "source": [
        "print(plt.imshow(X_test[2]))"
      ],
      "metadata": {
        "colab": {
          "base_uri": "https://localhost:8080/",
          "height": 447
        },
        "id": "ZAnLjn9hbA-7",
        "outputId": "f51a61dd-98aa-4b80-83b0-c42e7a0b3865"
      },
      "execution_count": 69,
      "outputs": [
        {
          "output_type": "stream",
          "name": "stdout",
          "text": [
            "AxesImage(size=(28, 28))\n"
          ]
        },
        {
          "output_type": "display_data",
          "data": {
            "text/plain": [
              "<Figure size 640x480 with 1 Axes>"
            ],
            "image/png": "[encoded data removed]"
          },
          "metadata": {}
        }
      ]
    },
    {
      "cell_type": "code",
      "source": [
        "print(plt.imshow(X_test[100]))"
      ],
      "metadata": {
        "colab": {
          "base_uri": "https://localhost:8080/",
          "height": 447
        },
        "id": "Q850TqKdbFkl",
        "outputId": "ae20f462-ca82-45be-e25d-c110f97dd176"
      },
      "execution_count": 70,
      "outputs": [
        {
          "output_type": "stream",
          "name": "stdout",
          "text": [
            "AxesImage(size=(28, 28))\n"
          ]
        },
        {
          "output_type": "display_data",
          "data": {
            "text/plain": [
              "<Figure size 640x480 with 1 Axes>"
            ],
            "image/png": "[encoded data removed]"
          },
          "metadata": {}
        }
      ]
    },
    {
      "cell_type": "code",
      "source": [],
      "metadata": {
        "id": "dCPsKSUebIyj"
      },
      "execution_count": null,
      "outputs": []
    }
  ]
}