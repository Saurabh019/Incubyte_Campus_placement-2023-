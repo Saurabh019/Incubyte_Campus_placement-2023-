{
  "nbformat": 4,
  "nbformat_minor": 0,
  "metadata": {
    "colab": {
      "provenance": [],
      "authorship_tag": "ABX9TyPTGOlxSDtOnId6eFS3XYfR",
      "include_colab_link": true
    },
    "kernelspec": {
      "name": "python3",
      "display_name": "Python 3"
    },
    "language_info": {
      "name": "python"
    }
  },
  "cells": [
    {
      "cell_type": "markdown",
      "metadata": {
        "id": "view-in-github",
        "colab_type": "text"
      },
      "source": [
        "<a href=\"https://colab.research.google.com/github/Saurabh019/Incubyte_Campus_placement-2023-/blob/main/California_housing.ipynb\" target=\"_parent\"><img src=\"https://colab.research.google.com/assets/colab-badge.svg\" alt=\"Open In Colab\"/></a>"
      ]
    },
    {
      "cell_type": "code",
      "execution_count": 1,
      "metadata": {
        "id": "XIvrRYyWGN3R"
      },
      "outputs": [],
      "source": [
        "import numpy as np\n",
        "import pandas as pd\n",
        "import matplotlib as mpl\n",
        "import matplotlib.pyplot as plt\n"
      ]
    },
    {
      "cell_type": "code",
      "source": [
        "import tensorflow as tf\n",
        "from tensorflow import keras"
      ],
      "metadata": {
        "id": "TgquUG56IAro"
      },
      "execution_count": 2,
      "outputs": []
    },
    {
      "cell_type": "code",
      "source": [
        "from sklearn.datasets import fetch_california_housing\n",
        "housing = fetch_california_housing()"
      ],
      "metadata": {
        "id": "__iDjhXMIGya"
      },
      "execution_count": 3,
      "outputs": []
    },
    {
      "cell_type": "code",
      "source": [
        "print(housing.feature_names)"
      ],
      "metadata": {
        "colab": {
          "base_uri": "https://localhost:8080/"
        },
        "id": "sH9lvo60IWYS",
        "outputId": "2c213693-fd7c-491c-9599-dad3ecca9d60"
      },
      "execution_count": 4,
      "outputs": [
        {
          "output_type": "stream",
          "name": "stdout",
          "text": [
            "['MedInc', 'HouseAge', 'AveRooms', 'AveBedrms', 'Population', 'AveOccup', 'Latitude', 'Longitude']\n"
          ]
        }
      ]
    },
    {
      "cell_type": "code",
      "source": [
        "print(housing.data.shape)"
      ],
      "metadata": {
        "colab": {
          "base_uri": "https://localhost:8080/"
        },
        "id": "P1a1Svj3Ib8g",
        "outputId": "61a09052-429d-42cb-bf45-c6ebc0a4f59d"
      },
      "execution_count": 5,
      "outputs": [
        {
          "output_type": "stream",
          "name": "stdout",
          "text": [
            "(20640, 8)\n"
          ]
        }
      ]
    },
    {
      "cell_type": "code",
      "source": [
        "print(housing.target)"
      ],
      "metadata": {
        "colab": {
          "base_uri": "https://localhost:8080/"
        },
        "id": "_aTRaAShIk3i",
        "outputId": "82651263-003f-4437-af56-63e2353b3297"
      },
      "execution_count": 6,
      "outputs": [
        {
          "output_type": "stream",
          "name": "stdout",
          "text": [
            "[4.526 3.585 3.521 ... 0.923 0.847 0.894]\n"
          ]
        }
      ]
    },
    {
      "cell_type": "code",
      "source": [
        "from sklearn.model_selection import train_test_split"
      ],
      "metadata": {
        "id": "a4dqIMz7IoCU"
      },
      "execution_count": 7,
      "outputs": []
    },
    {
      "cell_type": "code",
      "source": [
        "X_train_full,X_test,y_train_full,y_test = train_test_split(housing.data,housing.target,random_state=42)\n",
        "X_train,X_valid,y_train,y_valid = train_test_split(X_train_full,y_train_full,random_state=42)"
      ],
      "metadata": {
        "id": "CZJ8sPrOI0zc"
      },
      "execution_count": 8,
      "outputs": []
    },
    {
      "cell_type": "code",
      "source": [
        "from sklearn.preprocessing import StandardScaler\n",
        "scaler = StandardScaler()\n",
        "X_train = scaler.fit_transform(X_train)\n",
        "X_valid = scaler.transform(X_valid)\n",
        "X_test = scaler.transform(X_test)"
      ],
      "metadata": {
        "id": "4p1RbQZ1JXZB"
      },
      "execution_count": 9,
      "outputs": []
    },
    {
      "cell_type": "code",
      "source": [
        "np.random.seed(42)\n",
        "tf.random.set_seed(42)"
      ],
      "metadata": {
        "id": "EZluhLgxJzEL"
      },
      "execution_count": 10,
      "outputs": []
    },
    {
      "cell_type": "code",
      "source": [
        "X_train.shape"
      ],
      "metadata": {
        "colab": {
          "base_uri": "https://localhost:8080/"
        },
        "id": "qUX_JjmsJ50-",
        "outputId": "2e1b2307-db1b-4595-e1d2-39506e86d3d5"
      },
      "execution_count": 11,
      "outputs": [
        {
          "output_type": "execute_result",
          "data": {
            "text/plain": [
              "(11610, 8)"
            ]
          },
          "metadata": {},
          "execution_count": 11
        }
      ]
    },
    {
      "cell_type": "code",
      "source": [
        "model = keras.models.Sequential([\n",
        "    keras.layers.Dense(30,activation=\"relu\",input_shape=[8]),\n",
        "    keras.layers.Dense(30,activation=\"relu\"),\n",
        "    keras.layers.Dense(1)\n",
        "])"
      ],
      "metadata": {
        "id": "PqqCfiD8J9HI"
      },
      "execution_count": 13,
      "outputs": []
    },
    {
      "cell_type": "code",
      "source": [
        "model.summary()"
      ],
      "metadata": {
        "colab": {
          "base_uri": "https://localhost:8080/"
        },
        "id": "svMd7tYmKVKI",
        "outputId": "bcee268f-c940-4be8-fec1-b65ac7b5f645"
      },
      "execution_count": 15,
      "outputs": [
        {
          "output_type": "stream",
          "name": "stdout",
          "text": [
            "Model: \"sequential\"\n",
            "_________________________________________________________________\n",
            " Layer (type)                Output Shape              Param #   \n",
            "=================================================================\n",
            " dense (Dense)               (None, 30)                270       \n",
            "                                                                 \n",
            " dense_1 (Dense)             (None, 30)                930       \n",
            "                                                                 \n",
            " dense_2 (Dense)             (None, 1)                 31        \n",
            "                                                                 \n",
            "=================================================================\n",
            "Total params: 1231 (4.81 KB)\n",
            "Trainable params: 1231 (4.81 KB)\n",
            "Non-trainable params: 0 (0.00 Byte)\n",
            "_________________________________________________________________\n"
          ]
        }
      ]
    },
    {
      "cell_type": "code",
      "source": [
        "model.compile(loss=\"mean_squared_error\",\n",
        "optimizer=keras.optimizers.SGD(lr=1e-3),\n",
        "metrics=['mae'])"
      ],
      "metadata": {
        "colab": {
          "base_uri": "https://localhost:8080/"
        },
        "id": "wXpCAGPoKl7j",
        "outputId": "2f2a5783-857a-4969-f032-0cf862e37022"
      },
      "execution_count": 18,
      "outputs": [
        {
          "output_type": "stream",
          "name": "stderr",
          "text": [
            "WARNING:absl:`lr` is deprecated in Keras optimizer, please use `learning_rate` or use the legacy optimizer, e.g.,tf.keras.optimizers.legacy.SGD.\n"
          ]
        }
      ]
    },
    {
      "cell_type": "code",
      "source": [
        "# We can divide the dataset of 2000 examples into batches of 500 then it will take 4 iterations to\n",
        "# complete 1 epoch."
      ],
      "metadata": {
        "id": "nVaLbBMxLARQ"
      },
      "execution_count": 20,
      "outputs": []
    },
    {
      "cell_type": "markdown",
      "source": [],
      "metadata": {
        "id": "bGtbvcxILs_O"
      }
    },
    {
      "cell_type": "code",
      "source": [
        "model_history = model.fit(X_train,y_train,epochs=20,validation_data=(X_valid,y_valid))"
      ],
      "metadata": {
        "colab": {
          "base_uri": "https://localhost:8080/"
        },
        "id": "8VqrIwrYL1At",
        "outputId": "829c8bc5-c4b2-41d6-df16-8cecf7ea4007"
      },
      "execution_count": 21,
      "outputs": [
        {
          "output_type": "stream",
          "name": "stdout",
          "text": [
            "Epoch 1/20\n",
            "363/363 [==============================] - 3s 4ms/step - loss: 0.8388 - mae: 0.6560 - val_loss: 5.6770 - val_mae: 0.5718\n",
            "Epoch 2/20\n",
            "363/363 [==============================] - 1s 2ms/step - loss: 0.5412 - mae: 0.5027 - val_loss: 1.6771 - val_mae: 0.4870\n",
            "Epoch 3/20\n",
            "363/363 [==============================] - 1s 3ms/step - loss: 0.4647 - mae: 0.4804 - val_loss: 3.7783 - val_mae: 0.4863\n",
            "Epoch 4/20\n",
            "363/363 [==============================] - 1s 2ms/step - loss: 0.4324 - mae: 0.4612 - val_loss: 8.5884 - val_mae: 0.5056\n",
            "Epoch 5/20\n",
            "363/363 [==============================] - 1s 3ms/step - loss: 0.3982 - mae: 0.4467 - val_loss: 3.9061 - val_mae: 0.4819\n",
            "Epoch 6/20\n",
            "363/363 [==============================] - 1s 3ms/step - loss: 0.4171 - mae: 0.4443 - val_loss: 1.9760 - val_mae: 0.4525\n",
            "Epoch 7/20\n",
            "363/363 [==============================] - 1s 2ms/step - loss: 0.3816 - mae: 0.4328 - val_loss: 0.3566 - val_mae: 0.4210\n",
            "Epoch 8/20\n",
            "363/363 [==============================] - 1s 2ms/step - loss: 0.3644 - mae: 0.4271 - val_loss: 0.3655 - val_mae: 0.4184\n",
            "Epoch 9/20\n",
            "363/363 [==============================] - 1s 2ms/step - loss: 0.3593 - mae: 0.4223 - val_loss: 0.3611 - val_mae: 0.4091\n",
            "Epoch 10/20\n",
            "363/363 [==============================] - 1s 3ms/step - loss: 0.3562 - mae: 0.4209 - val_loss: 0.3569 - val_mae: 0.4148\n",
            "Epoch 11/20\n",
            "363/363 [==============================] - 1s 3ms/step - loss: 0.3543 - mae: 0.4190 - val_loss: 0.3506 - val_mae: 0.4090\n",
            "Epoch 12/20\n",
            "363/363 [==============================] - 1s 4ms/step - loss: 0.3519 - mae: 0.4175 - val_loss: 0.3565 - val_mae: 0.4074\n",
            "Epoch 13/20\n",
            "363/363 [==============================] - 1s 2ms/step - loss: 0.3478 - mae: 0.4151 - val_loss: 0.3584 - val_mae: 0.4035\n",
            "Epoch 14/20\n",
            "363/363 [==============================] - 1s 2ms/step - loss: 0.3450 - mae: 0.4128 - val_loss: 0.3423 - val_mae: 0.4015\n",
            "Epoch 15/20\n",
            "363/363 [==============================] - 1s 3ms/step - loss: 0.3432 - mae: 0.4121 - val_loss: 0.3466 - val_mae: 0.4045\n",
            "Epoch 16/20\n",
            "363/363 [==============================] - 1s 3ms/step - loss: 0.3408 - mae: 0.4106 - val_loss: 0.3309 - val_mae: 0.4041\n",
            "Epoch 17/20\n",
            "363/363 [==============================] - 1s 2ms/step - loss: 0.3380 - mae: 0.4088 - val_loss: 0.3565 - val_mae: 0.4154\n",
            "Epoch 18/20\n",
            "363/363 [==============================] - 1s 3ms/step - loss: 0.3361 - mae: 0.4071 - val_loss: 0.3333 - val_mae: 0.3978\n",
            "Epoch 19/20\n",
            "363/363 [==============================] - 1s 3ms/step - loss: 0.3354 - mae: 0.4064 - val_loss: 0.3363 - val_mae: 0.3941\n",
            "Epoch 20/20\n",
            "363/363 [==============================] - 1s 2ms/step - loss: 0.3346 - mae: 0.4054 - val_loss: 0.3720 - val_mae: 0.4143\n"
          ]
        }
      ]
    },
    {
      "cell_type": "code",
      "source": [
        "mae_test = model.evaluate(X_test,y_test)"
      ],
      "metadata": {
        "colab": {
          "base_uri": "https://localhost:8080/"
        },
        "id": "CVmhaQDjMBmo",
        "outputId": "e6cfacd9-db9f-4a3a-e34f-30b314f26cd4"
      },
      "execution_count": 22,
      "outputs": [
        {
          "output_type": "stream",
          "name": "stdout",
          "text": [
            "162/162 [==============================] - 0s 3ms/step - loss: 0.3426 - mae: 0.4190\n"
          ]
        }
      ]
    },
    {
      "cell_type": "code",
      "source": [
        "model_history.history"
      ],
      "metadata": {
        "colab": {
          "base_uri": "https://localhost:8080/"
        },
        "id": "zY-KJevOMNVf",
        "outputId": "f7ea0abd-1927-4963-e670-07870c3fbd1f"
      },
      "execution_count": 25,
      "outputs": [
        {
          "output_type": "execute_result",
          "data": {
            "text/plain": [
              "{'loss': [0.8387768268585205,\n",
              "  0.5412130951881409,\n",
              "  0.4647442400455475,\n",
              "  0.4324168562889099,\n",
              "  0.39824214577674866,\n",
              "  0.4170931577682495,\n",
              "  0.38156431913375854,\n",
              "  0.36441296339035034,\n",
              "  0.35933688282966614,\n",
              "  0.3561996519565582,\n",
              "  0.3543049991130829,\n",
              "  0.35192543268203735,\n",
              "  0.34778621792793274,\n",
              "  0.3449866771697998,\n",
              "  0.3431805372238159,\n",
              "  0.3407565653324127,\n",
              "  0.3380209505558014,\n",
              "  0.33607053756713867,\n",
              "  0.3353680670261383,\n",
              "  0.33463358879089355],\n",
              " 'mae': [0.6560155153274536,\n",
              "  0.502655565738678,\n",
              "  0.48036709427833557,\n",
              "  0.4611968994140625,\n",
              "  0.44674816727638245,\n",
              "  0.4442828893661499,\n",
              "  0.43279728293418884,\n",
              "  0.42707425355911255,\n",
              "  0.42225372791290283,\n",
              "  0.4209088981151581,\n",
              "  0.41903233528137207,\n",
              "  0.4175157845020294,\n",
              "  0.41510921716690063,\n",
              "  0.41282328963279724,\n",
              "  0.412102609872818,\n",
              "  0.41059184074401855,\n",
              "  0.40883442759513855,\n",
              "  0.4071228802204132,\n",
              "  0.4063963294029236,\n",
              "  0.4053885340690613],\n",
              " 'val_loss': [5.677025318145752,\n",
              "  1.6770631074905396,\n",
              "  3.778310537338257,\n",
              "  8.588396072387695,\n",
              "  3.9061172008514404,\n",
              "  1.9759981632232666,\n",
              "  0.3566347062587738,\n",
              "  0.365531325340271,\n",
              "  0.36114034056663513,\n",
              "  0.35687872767448425,\n",
              "  0.350558876991272,\n",
              "  0.3565320670604706,\n",
              "  0.3583521842956543,\n",
              "  0.34229111671447754,\n",
              "  0.34656375646591187,\n",
              "  0.3309429883956909,\n",
              "  0.3564712405204773,\n",
              "  0.3332710564136505,\n",
              "  0.3362693190574646,\n",
              "  0.3720061480998993],\n",
              " 'val_mae': [0.5718101263046265,\n",
              "  0.48695456981658936,\n",
              "  0.4863215386867523,\n",
              "  0.5056267976760864,\n",
              "  0.48193055391311646,\n",
              "  0.4524642527103424,\n",
              "  0.42095357179641724,\n",
              "  0.41842007637023926,\n",
              "  0.40909069776535034,\n",
              "  0.4148321747779846,\n",
              "  0.409013569355011,\n",
              "  0.4073733985424042,\n",
              "  0.40350642800331116,\n",
              "  0.40147069096565247,\n",
              "  0.40447893738746643,\n",
              "  0.4040891230106354,\n",
              "  0.4153527319431305,\n",
              "  0.39779961109161377,\n",
              "  0.39410915970802307,\n",
              "  0.4143073260784149]}"
            ]
          },
          "metadata": {},
          "execution_count": 25
        }
      ]
    },
    {
      "cell_type": "code",
      "source": [
        "pd.DataFrame(model_history.history).plot(figsize=(8,5))\n",
        "plt.grid(True)\n",
        "plt.gca().set_ylim(0,1)\n",
        "plt.show()"
      ],
      "metadata": {
        "colab": {
          "base_uri": "https://localhost:8080/",
          "height": 451
        },
        "id": "Z49e05SLMTOV",
        "outputId": "6fc162c9-37ee-4f7d-a5ed-cdb9a35e14e7"
      },
      "execution_count": 27,
      "outputs": [
        {
          "output_type": "display_data",
          "data": {
            "text/plain": [
              "<Figure size 800x500 with 1 Axes>"
            ],
            "image/png": "[encoded data removed]"
          },
          "metadata": {}
        }
      ]
    },
    {
      "cell_type": "code",
      "source": [
        "X_new = X_test[:4]\n",
        "y_pred = model.predict(X_new)\n",
        "print(y_pred)\n",
        "print(y_test[:4])"
      ],
      "metadata": {
        "colab": {
          "base_uri": "https://localhost:8080/"
        },
        "id": "mmN9J9qTMtcF",
        "outputId": "58adeba7-c18d-4f77-b7fb-87348ad1fde5"
      },
      "execution_count": 28,
      "outputs": [
        {
          "output_type": "stream",
          "name": "stdout",
          "text": [
            "1/1 [==============================] - 0s 115ms/step\n",
            "[[0.68760484]\n",
            " [1.5510802 ]\n",
            " [4.4943595 ]\n",
            " [2.8459473 ]]\n",
            "[0.477   0.458   5.00001 2.186  ]\n"
          ]
        }
      ]
    },
    {
      "cell_type": "code",
      "source": [],
      "metadata": {
        "id": "y_79XhQdNOvV"
      },
      "execution_count": null,
      "outputs": []
    }
  ]
}